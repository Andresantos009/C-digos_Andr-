{
 "cells": [
  {
   "cell_type": "markdown",
   "id": "f445e552",
   "metadata": {},
   "source": [
    "### 🧪 Revisão de prova - Missão: Condicionais 🤖\n",
    "\n",
    "Você está sendo avaliado(a) em sua habilidade de tomar decisões automatizadas por meio de códigos. Em cada uma das atividades a seguir, use estruturas condicionais com sabedoria."
   ]
  },
  {
   "cell_type": "markdown",
   "id": "769337a0",
   "metadata": {},
   "source": [
    "### ⚖️ Desafio 01 - Avaliação de Desempenho na Agência 🧾 (Usando if, múltiplos elif e else)"
   ]
  },
  {
   "cell_type": "markdown",
   "id": "14f80018",
   "metadata": {},
   "source": [
    "O Sistema de Avaliação da Agência Central de Inteligência precisa classificar os agentes de acordo com sua nota final. Sua missão é automatizar esse processo."
   ]
  },
  {
   "cell_type": "markdown",
   "id": "89f6fff0",
   "metadata": {},
   "source": [
    "🎯 Objetivo:\n",
    "Solicitar o nome do agente e sua nota final (0 a 10).\n",
    "Exibir a classificação:"
   ]
  },
  {
   "cell_type": "markdown",
   "id": "234495dd",
   "metadata": {},
   "source": [
    "Solicitar o nome do agente e sua nota final (0 a 10).\n",
    "Exibir a classificação:\n",
    "\n",
    "Nota\tClassificação\n",
    "\n",
    "9.0 a 10.0\tExcelente 🏅\n",
    "\n",
    "7.0 a 8.9\tBom 👍\n",
    "\n",
    "5.0 a 6.9\tRegular ⚠️\n",
    "\n",
    "3.0 a 4.9\tRuim 🚫\n",
    "\n",
    "0.0 a 2.9\tCrítico 🚨\n",
    "Fora do intervalo\tNota inválida ❌\n"
   ]
  },
  {
   "cell_type": "markdown",
   "id": "41369ade",
   "metadata": {},
   "source": [
    "Exibir mensagem:\n",
    "\"Agente [NOME], sua classificação é: [classificação] (nota: [nota])\"\n"
   ]
  },
  {
   "cell_type": "markdown",
   "id": "bd552298",
   "metadata": {},
   "source": [
    "📦 Instruções Gerais\n",
    "\n",
    "Mantenha seu código indentado corretamente e com prints claros.\n",
    "Personalize a saída sempre que possível usando o nome do usuário.\n"
   ]
  },
  {
   "cell_type": "markdown",
   "id": "e540ea62",
   "metadata": {},
   "source": [
    "Boa sorte nas decisões lógicas, agente.\n",
    "A sua capacidade de condicionar pode alterar o curso do código.\n"
   ]
  },
  {
   "cell_type": "code",
   "execution_count": 10,
   "id": "77ac96b4",
   "metadata": {},
   "outputs": [
    {
     "name": "stdout",
     "output_type": "stream",
     "text": [
      "Nota\tClassificação\n",
      "\n",
      "9.0 a 10.0\tExcelente 🏅\n",
      "7.0 a 8.9\tBom 👍\n",
      "5.0 a 6.9\tRegular ⚠️\n",
      "3.0 a 4.9\tRuim 🚫\n",
      "0.0 a 2.9\tCrítico 🚨\n",
      "\n",
      "Agente André , sua classificação é: Excelente 🫢🤩🤩🏅 ficou em uma otima colocação, parabens 🫣🙌 nota:10.0\n"
     ]
    }
   ],
   "source": [
    "print(\"Nota\tClassificação\")\n",
    "print()\n",
    "print(\"9.0 a 10.0\tExcelente 🏅\")\n",
    "print(\"7.0 a 8.9\tBom 👍\")\n",
    "print(\"5.0 a 6.9\tRegular ⚠️\")\n",
    "print(\"3.0 a 4.9\tRuim 🚫\")\n",
    "print(\"0.0 a 2.9\tCrítico 🚨\")\n",
    "print()\n",
    "\n",
    "nome = input(\"nome do agente da agencia: \")\n",
    "nota = float(input(\"Informe a sua nota de (0 a 10)\"))\n",
    "\n",
    "# essa é a maior colocação que pode ter na avaliação\n",
    "if nota >= 9.0 and nota<=10:\n",
    "    print(f'Agente {nome}, sua classificação é: Excelente 🫢🤩🤩🏅 ficou em uma otima colocação, parabens 🫣🙌 nota:{nota}' ) \n",
    "\n",
    "\n",
    "# não é a melhor colocação, porem esta indo pelo caminho certo\n",
    "elif nota >= 7.0 and nota<=8.9:\n",
    "    print(f\"Agente {nome}, sua classificação é: Bom 😁👍 mandou bem na nota 😊. nota:{nota} \") \n",
    "\n",
    "\n",
    " # uma nota não tão boa e nem tão ruim, apenas uma nota normal\n",
    "elif nota >= 5.0 and nota<=6.9:\n",
    "    print(f\"Agente {nome}, sua classificação é: Regular ⚠️ poderia ser melor, talvez na proxima consiga 😊🙌. nota:{nota}\")\n",
    "\n",
    "\n",
    "# nota ruim, só que não é a pior\n",
    "elif nota >= 3.0 and nota<=4.9:\n",
    "    print(f\"Agente {nome}, sua classificação é: Ruim 🚫 quase conseguiu pegar uma nota boa, porem ficou so na espequitativa 😓🤦‍♂️. nota:{nota}\") \n",
    "\n",
    "\n",
    " # pior nota que pode tirar, ta muito ruim, apenas melhore\n",
    "elif nota >= 0.0 and nota<=2.9:\n",
    "    print(f\"Agente {nome}, sua classificação é: Crítico 🚨🤦‍♂️😓😭 esperava mais do que isso 😒🧐. nota:{nota}\")\n",
    "\n",
    "# pelo90 amor, como consigui uma nota dessa\n",
    "else:\n",
    "    print(\"fora de intervalo nota invalida, apenas melhore\")"
   ]
  }
 ],
 "metadata": {
  "kernelspec": {
   "display_name": "Python 3",
   "language": "python",
   "name": "python3"
  },
  "language_info": {
   "codemirror_mode": {
    "name": "ipython",
    "version": 3
   },
   "file_extension": ".py",
   "mimetype": "text/x-python",
   "name": "python",
   "nbconvert_exporter": "python",
   "pygments_lexer": "ipython3",
   "version": "3.13.2"
  }
 },
 "nbformat": 4,
 "nbformat_minor": 5
}
