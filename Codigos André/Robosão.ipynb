{
 "cells": [
  {
   "cell_type": "code",
   "execution_count": 6,
   "id": "751f6cf3",
   "metadata": {},
   "outputs": [],
   "source": [
    "import pyautogui as aut\n",
    "aut.mouseInfo()"
   ]
  },
  {
   "cell_type": "code",
   "execution_count": 7,
   "id": "cb42781c",
   "metadata": {},
   "outputs": [],
   "source": [
    "\n",
    "import time\n",
    "import subprocess\n",
    "\n",
    "# Abre a calculadora\n",
    "subprocess.Popen('calc.exe')\n",
    "time.sleep(2)  # Espera 2 segundos\n",
    "\n",
    "# Faz a conta 45 + 32\n",
    "aut.press('4')\n",
    "aut.press('5')\n",
    "aut.press('+')\n",
    "aut.press('3')\n",
    "aut.press('2')\n",
    "aut.press('enter')\n"
   ]
  },
  {
   "cell_type": "code",
   "execution_count": null,
   "id": "bcba9029",
   "metadata": {},
   "outputs": [],
   "source": [
    "import pyautogui as aut\n",
    "\n",
    "aut.hotkey('Win')\n",
    "aut.write('paint', interval=0.1)\n",
    "aut.press('enter')\n",
    "aut.sleep(3)\n",
    "aut.moveTo(721, 197)\n",
    "aut.dragTo(484,655, duration=0.5)\n",
    "aut.dragTo(1026, 428, duration=0.5)\n",
    "aut.moveTo(786, 196)\n",
    "aut.dragTo(453, 427, duration=0.5)\n",
    "aut.dragTo(1060, 308, duration=0.5)\n"
   ]
  }
 ],
 "metadata": {
  "kernelspec": {
   "display_name": "Python 3",
   "language": "python",
   "name": "python3"
  },
  "language_info": {
   "codemirror_mode": {
    "name": "ipython",
    "version": 3
   },
   "file_extension": ".py",
   "mimetype": "text/x-python",
   "name": "python",
   "nbconvert_exporter": "python",
   "pygments_lexer": "ipython3",
   "version": "3.13.2"
  }
 },
 "nbformat": 4,
 "nbformat_minor": 5
}
